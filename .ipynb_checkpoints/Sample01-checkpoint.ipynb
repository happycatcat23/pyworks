{
 "cells": [
  {
   "cell_type": "code",
   "execution_count": 1,
   "metadata": {},
   "outputs": [
    {
     "name": "stdout",
     "output_type": "stream",
     "text": [
      "Hello World\n"
     ]
    }
   ],
   "source": [
    "print(\"Hello World\")"
   ]
  },
  {
   "cell_type": "code",
   "execution_count": 3,
   "metadata": {},
   "outputs": [
    {
     "data": {
      "text/plain": [
       "18"
      ]
     },
     "execution_count": 3,
     "metadata": {},
     "output_type": "execute_result"
    }
   ],
   "source": [
    "#変数の定義と値の代入\n",
    "a = 18\n",
    "\n",
    "#変数の表示\n",
    "a"
   ]
  },
  {
   "cell_type": "code",
   "execution_count": 4,
   "metadata": {},
   "outputs": [
    {
     "ename": "NameError",
     "evalue": "name 'x' is not defined",
     "output_type": "error",
     "traceback": [
      "\u001b[0;31m---------------------------------------------------------------------------\u001b[0m",
      "\u001b[0;31mNameError\u001b[0m                                 Traceback (most recent call last)",
      "\u001b[0;32m<ipython-input-4-1b6d20817143>\u001b[0m in \u001b[0;36m<module>\u001b[0;34m()\u001b[0m\n\u001b[1;32m      1\u001b[0m \u001b[0;31m#変数の表示\u001b[0m\u001b[0;34m\u001b[0m\u001b[0;34m\u001b[0m\u001b[0m\n\u001b[0;32m----> 2\u001b[0;31m \u001b[0mx\u001b[0m\u001b[0;34m\u001b[0m\u001b[0m\n\u001b[0m",
      "\u001b[0;31mNameError\u001b[0m: name 'x' is not defined"
     ]
    }
   ],
   "source": [
    "#変数の表示\n",
    "x"
   ]
  },
  {
   "cell_type": "code",
   "execution_count": 5,
   "metadata": {},
   "outputs": [
    {
     "name": "stdout",
     "output_type": "stream",
     "text": [
      "1.5\n",
      "-2.0\n"
     ]
    }
   ],
   "source": [
    "#変数の定義と値の代入\n",
    "b = 1.5\n",
    "c = -2.0\n",
    "\n",
    "#変数b, cの表示\n",
    "print(b)\n",
    "print(c)"
   ]
  },
  {
   "cell_type": "code",
   "execution_count": 6,
   "metadata": {},
   "outputs": [
    {
     "name": "stdout",
     "output_type": "stream",
     "text": [
      "<class 'int'>\n",
      "<class 'float'>\n",
      "<class 'float'>\n"
     ]
    }
   ],
   "source": [
    "#変数のタイプ\n",
    "print(type(a))\n",
    "print(type(b))\n",
    "print(type(c))"
   ]
  },
  {
   "cell_type": "code",
   "execution_count": 7,
   "metadata": {},
   "outputs": [
    {
     "name": "stdout",
     "output_type": "stream",
     "text": [
      "19.5\n",
      "-3.0\n"
     ]
    }
   ],
   "source": [
    "#四則演算\n",
    "e = a + b #和\n",
    "\n",
    "f = b * c #積\n",
    "\n",
    "#計算の表示\n",
    "print(e)\n",
    "print(f)"
   ]
  },
  {
   "cell_type": "code",
   "execution_count": 15,
   "metadata": {},
   "outputs": [
    {
     "name": "stdout",
     "output_type": "stream",
     "text": [
      "Welcome to PyTorch\n",
      "パイトーチ\n",
      "Welcome to PyTorch\tパイトーチ\n",
      "Welc*me t* PyT*rch\tパイトーチ\n"
     ]
    }
   ],
   "source": [
    "#変数の定義と値の代入\n",
    "o = 'Welcome to PyTorch'\n",
    "p = 'パイトーチ'\n",
    "\n",
    "#変数o, pの表示\n",
    "\n",
    "print(o)\n",
    "print(p)\n",
    "\n",
    "#文字列の結合と表示\n",
    "q = o + '\\t' + p \n",
    "print(q) \n",
    "\n",
    "#文字列の置換\n",
    "r = q.replace('o', '*')\n",
    "print(r)"
   ]
  },
  {
   "cell_type": "code",
   "execution_count": 9,
   "metadata": {},
   "outputs": [
    {
     "name": "stdout",
     "output_type": "stream",
     "text": [
      "<class 'str'>\n",
      "<class 'str'>\n",
      "<class 'str'>\n",
      "<class 'str'>\n"
     ]
    }
   ],
   "source": [
    "#変数のタイプ\n",
    "print(type(o))\n",
    "print(type(p))\n",
    "print(type(q))\n",
    "print(type(r))"
   ]
  },
  {
   "cell_type": "code",
   "execution_count": 11,
   "metadata": {},
   "outputs": [
    {
     "name": "stdout",
     "output_type": "stream",
     "text": [
      "<class 'list'>\n",
      "1\n",
      "2\n",
      "2\n",
      "[1, 7, 5]\n",
      "[1, 2, 3, 5, 7]\n"
     ]
    }
   ],
   "source": [
    "#リスト作成\n",
    "lst = [1, 7, 5, 3, 2]\n",
    "\n",
    "#リストのタイプ\n",
    "print(type(lst))\n",
    "\n",
    "#先頭要素へのアクセス\n",
    "print(lst[0])\n",
    "#末尾要素へのアクセス\n",
    "print(lst[4])\n",
    "print(lst[-1])\n",
    "\n",
    "#1番目から3番目までの要素へのアクセス\n",
    "print(lst[0:3])\n",
    "\n",
    "#要素の昇順でソート\n",
    "print(sorted(lst))"
   ]
  },
  {
   "cell_type": "code",
   "execution_count": 13,
   "metadata": {},
   "outputs": [
    {
     "name": "stdout",
     "output_type": "stream",
     "text": [
      "[1, 7, 5, 3, 2, 4]\n",
      "[1, 7, 5, 3, 2, 4, [5, 8]]\n",
      "[1, 7, 5, 3, 2, 4, [5, 8], 5, 8]\n",
      "[1, 7, 5, 3, 2, [5, 8], 5, 8]\n",
      "[1, 7, 5, 6, 3, 2, [5, 8], 5, 8]\n",
      "2\n"
     ]
    }
   ],
   "source": [
    "#リスト作成\n",
    "lst = [1, 7, 5, 3, 2]\n",
    "\n",
    "#要素の追加\n",
    "lst.append(4)\n",
    "print(lst)\n",
    "lst.append([5, 8])\n",
    "print(lst)\n",
    "lst.extend([5, 8])\n",
    "print(lst)\n",
    "\n",
    "#要素の削除\n",
    "lst.remove(4)\n",
    "print(lst)\n",
    "\n",
    "#要素の挿入\n",
    "lst.insert(3, 6)\n",
    "print(lst)\n",
    "\n",
    "#要素のカウント\n",
    "print(lst.count(5))"
   ]
  },
  {
   "cell_type": "code",
   "execution_count": 14,
   "metadata": {},
   "outputs": [
    {
     "name": "stdout",
     "output_type": "stream",
     "text": [
      "<class 'tuple'>\n",
      "1\n",
      "2\n",
      "2\n",
      "(1, 7, 5)\n",
      "[1, 2, 3, 5, 7]\n"
     ]
    }
   ],
   "source": [
    "#タプルの作成\n",
    "tpl = (1, 7, 5, 3, 2)\n",
    "\n",
    "#タプルのタイプ\n",
    "print(type(tpl))\n",
    "\n",
    "#先頭の要素へのアクセス\n",
    "print(tpl[0])\n",
    "#末尾の要素へのアクセス\n",
    "print(tpl[4])\n",
    "print(tpl[-1])\n",
    "#1番目から3番目までの要素へのアクセス\n",
    "print(tpl[0:3])\n",
    "\n",
    "#要素を昇順でソート\n",
    "print(sorted(tpl))\n",
    "\n"
   ]
  },
  {
   "cell_type": "code",
   "execution_count": 16,
   "metadata": {},
   "outputs": [
    {
     "name": "stdout",
     "output_type": "stream",
     "text": [
      "<class 'dict'>\n",
      "Welcome to PyTorch\n",
      "PyTorch\n",
      "{0: 'Welcome to PyTorch', 1: 'パイトーチ', 2: 'PyTorch', 4: 'Python'}\n",
      "dict_items([(0, 'Welcome to PyTorch'), (1, 'パイトーチ'), (2, 'PyTorch'), (4, 'Python')])\n",
      "dict_keys([0, 1, 2, 4])\n",
      "dict_values(['Welcome to PyTorch', 'パイトーチ', 'PyTorch', 'Python'])\n"
     ]
    }
   ],
   "source": [
    "#辞書の作成\n",
    "dic ={0:'Welcome to PyTorch', 1:'パイトーチ', 2:'PyTorch'}\n",
    "\n",
    "#辞書のタイプ\n",
    "print(type(dic))\n",
    "\n",
    "#先頭の要素へのアクセス\n",
    "print(dic[0])\n",
    "#末尾の要素へのアクセス\n",
    "print(dic[2])\n",
    "\n",
    "#要素の追加\n",
    "dic[4] =  'Python'\n",
    "print(dic)\n",
    "\n",
    "#キーと値の列挙\n",
    "print(dic.items())\n",
    "#キーの列挙\n",
    "print(dic.keys())\n",
    "#値の列挙\n",
    "print(dic.values())"
   ]
  },
  {
   "cell_type": "code",
   "execution_count": 17,
   "metadata": {},
   "outputs": [
    {
     "name": "stdout",
     "output_type": "stream",
     "text": [
      "1\n",
      "7\n",
      "5\n",
      "3\n",
      "2\n"
     ]
    }
   ],
   "source": [
    "#リストの作成\n",
    "lst = [1, 7, 5, 3, 2]\n",
    "\n",
    "#for文で要素の抽出\n",
    "i = 0\n",
    "for i in lst:\n",
    "    print(i)"
   ]
  },
  {
   "cell_type": "code",
   "execution_count": 18,
   "metadata": {},
   "outputs": [
    {
     "name": "stdout",
     "output_type": "stream",
     "text": [
      "1\n",
      "7\n",
      "5\n",
      "3\n",
      "2\n"
     ]
    }
   ],
   "source": [
    "#リストの作成\n",
    "lst = [1, 7, 5, 3, 2]\n",
    "\n",
    "#while文でリストの要素抽出\n",
    "i = 0\n",
    "while i < len(lst):\n",
    "    print(lst[i])\n",
    "    i += 1"
   ]
  },
  {
   "cell_type": "code",
   "execution_count": 20,
   "metadata": {},
   "outputs": [
    {
     "name": "stdout",
     "output_type": "stream",
     "text": [
      "2\n"
     ]
    }
   ],
   "source": [
    "#リストの作成\n",
    "lst = [1, 7, 5, 3, 2]\n",
    "\n",
    "#whilw文で要素の抽出\n",
    "i = 0\n",
    "while i < len(lst):\n",
    "    #2で割り切れる要素を表示\n",
    "    if lst[i]%2 == 0:\n",
    "        print(lst[i])\n",
    "    i += 1    "
   ]
  },
  {
   "cell_type": "code",
   "execution_count": 21,
   "metadata": {},
   "outputs": [
    {
     "name": "stdout",
     "output_type": "stream",
     "text": [
      "P\n",
      "y\n",
      "T\n",
      "o\n",
      "r\n",
      "c\n",
      "h\n"
     ]
    }
   ],
   "source": [
    "#変数の定義\n",
    "s = 'PyTorch'\n",
    "\n",
    "#1文字ずつ抽出\n",
    "c = 0\n",
    "for c in s:\n",
    "    print(c)"
   ]
  },
  {
   "cell_type": "code",
   "execution_count": 25,
   "metadata": {},
   "outputs": [
    {
     "name": "stdout",
     "output_type": "stream",
     "text": [
      "[0]\n",
      "[0, 1]\n",
      "[0, 1, 2]\n",
      "[0, 1, 2, 3]\n",
      "[0, 1, 2, 3, 4]\n",
      "[0, 1, 2, 3, 4, 5, 6, 7, 8, 9]\n"
     ]
    }
   ],
   "source": [
    "#空リスト作成\n",
    "lst1 = []\n",
    "\n",
    "#リストへ要素を追加\n",
    "for i in range(5):\n",
    "    lst1.append(i)\n",
    "    print(lst1)\n",
    "\n",
    "#リストの作成とアイテムの追加\n",
    "lst2 = [i for i in range(10)]\n",
    "print(lst2)"
   ]
  },
  {
   "cell_type": "code",
   "execution_count": 28,
   "metadata": {},
   "outputs": [
    {
     "name": "stdout",
     "output_type": "stream",
     "text": [
      "{0: 'A'}\n",
      "{0: 'A', 1: 'B'}\n",
      "{0: 'A', 1: 'B', 2: 'C'}\n",
      "{0: 'A', 1: 'B', 2: 'C', 3: 'D'}\n",
      "{0: 'A', 1: 'B', 2: 'C', 3: 'D', 4: 'E'}\n",
      "{0: 'A', 1: 'B', 2: 'C', 3: 'D', 4: 'E'}\n"
     ]
    }
   ],
   "source": [
    "#空辞書の作成\n",
    "dic1 = {}\n",
    "\n",
    "#辞書へのアイテムを追加\n",
    "for i in range(5):\n",
    "    dic1[i] = chr(i + 65)\n",
    "    print(dic1)\n",
    "    \n",
    "#辞書の作成とアイテムの追加\n",
    "dic2 = {i:chr(i + 65) for i in range(5) }\n",
    "print(dic2)"
   ]
  }
 ],
 "metadata": {
  "kernelspec": {
   "display_name": "Python 3",
   "language": "python",
   "name": "python3"
  },
  "language_info": {
   "codemirror_mode": {
    "name": "ipython",
    "version": 3
   },
   "file_extension": ".py",
   "mimetype": "text/x-python",
   "name": "python",
   "nbconvert_exporter": "python",
   "pygments_lexer": "ipython3",
   "version": "3.7.0"
  }
 },
 "nbformat": 4,
 "nbformat_minor": 2
}
