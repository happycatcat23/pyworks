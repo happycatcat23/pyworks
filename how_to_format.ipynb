{
 "cells": [
  {
   "cell_type": "code",
   "execution_count": null,
   "metadata": {},
   "outputs": [],
   "source": [
    "#参照ページ\n",
    "#https://note.nkmk.me/python-format-zero-hex/"
   ]
  },
  {
   "cell_type": "code",
   "execution_count": null,
   "metadata": {},
   "outputs": [],
   "source": [
    "#Pythonで数値や文字列を様々な書式に変換（フォーマット）する場合、\n",
    "#組み込み関数format()または文字列メソッドstr.format()を使う。\n",
    "\n",
    "#組み込み関数format()\n",
    "#文字列メソッドstr.format()\n",
    "#format(value, format_spec)\n",
    "#第一引数value: 元の値 / 文字列strや数値int, floatなど\n",
    "#第二引数format_spec: 書式指定文字列 / 文字列str\n",
    "#返り値: 書式化された文字列str"
   ]
  },
  {
   "cell_type": "code",
   "execution_count": 2,
   "metadata": {},
   "outputs": [
    {
     "name": "stdout",
     "output_type": "stream",
     "text": [
      "00ff\n",
      "<class 'str'>\n"
     ]
    }
   ],
   "source": [
    "s = format(255, '04x')\n",
    "print(s)\n",
    "print(type(s))"
   ]
  },
  {
   "cell_type": "code",
   "execution_count": 3,
   "metadata": {},
   "outputs": [
    {
     "name": "stdout",
     "output_type": "stream",
     "text": [
      "*****center*****\n"
     ]
    }
   ],
   "source": [
    "print(format('center', '*^16'))"
   ]
  },
  {
   "cell_type": "code",
   "execution_count": 4,
   "metadata": {},
   "outputs": [
    {
     "name": "stdout",
     "output_type": "stream",
     "text": [
      "100-二百-300\n"
     ]
    }
   ],
   "source": [
    "#順番通りに引数を指定（デフォルト）\n",
    "print('{}-{}-{}'.format('100','二百', 300))"
   ]
  },
  {
   "cell_type": "code",
   "execution_count": 5,
   "metadata": {},
   "outputs": [
    {
     "name": "stdout",
     "output_type": "stream",
     "text": [
      "foo-bar-foo\n"
     ]
    }
   ],
   "source": [
    "#整数値に対して位置引数を指定\n",
    "print('{0}-{1}-{0}'.format('foo', 'bar'))"
   ]
  },
  {
   "cell_type": "code",
   "execution_count": 7,
   "metadata": {},
   "outputs": [
    {
     "name": "stdout",
     "output_type": "stream",
     "text": [
      "2018年10月31日\n"
     ]
    }
   ],
   "source": [
    "#任意の名前（文字列）に対してキーワード引数を指定\n",
    "print('{year}年{month}月{day}日'.format(year = 2018, month = 10, day = 31))"
   ]
  },
  {
   "cell_type": "code",
   "execution_count": 14,
   "metadata": {},
   "outputs": [
    {
     "name": "stdout",
     "output_type": "stream",
     "text": [
      "one-two-three\n"
     ]
    }
   ],
   "source": [
    "#リスト、辞書を引数に指定\n",
    "l = ['one', 'two', 'three']\n",
    "print('{0[0]}-{0[1]}-{0[2]}'.format(l))"
   ]
  },
  {
   "cell_type": "code",
   "execution_count": null,
   "metadata": {},
   "outputs": [],
   "source": []
  }
 ],
 "metadata": {
  "kernelspec": {
   "display_name": "Python 3",
   "language": "python",
   "name": "python3"
  },
  "language_info": {
   "codemirror_mode": {
    "name": "ipython",
    "version": 3
   },
   "file_extension": ".py",
   "mimetype": "text/x-python",
   "name": "python",
   "nbconvert_exporter": "python",
   "pygments_lexer": "ipython3",
   "version": "3.7.0"
  }
 },
 "nbformat": 4,
 "nbformat_minor": 2
}
