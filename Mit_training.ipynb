{
 "cells": [
  {
   "cell_type": "code",
   "execution_count": 81,
   "metadata": {},
   "outputs": [
    {
     "name": "stdout",
     "output_type": "stream",
     "text": [
      "Enter a positive integer :9\n",
      "9\n"
     ]
    }
   ],
   "source": [
    "max = int(input('Enter a positive integer :'))\n",
    "i = 0\n",
    "while i < max :\n",
    "    i += 1\n",
    "print (i)     "
   ]
  },
  {
   "cell_type": "code",
   "execution_count": 82,
   "metadata": {},
   "outputs": [
    {
     "name": "stdout",
     "output_type": "stream",
     "text": [
      "0\n",
      "1\n",
      "2\n",
      "3\n"
     ]
    }
   ],
   "source": [
    "x = 4\n",
    "for i in range(0, x):\n",
    "    print(i)"
   ]
  },
  {
   "cell_type": "code",
   "execution_count": 83,
   "metadata": {},
   "outputs": [
    {
     "name": "stdout",
     "output_type": "stream",
     "text": [
      "0\n",
      "1\n",
      "2\n",
      "3\n"
     ]
    }
   ],
   "source": [
    "x = 4\n",
    "for i in range (0, x):\n",
    "    print(i)\n",
    "    x = 5"
   ]
  },
  {
   "cell_type": "code",
   "execution_count": 84,
   "metadata": {},
   "outputs": [
    {
     "name": "stdout",
     "output_type": "stream",
     "text": [
      "0\n",
      "1\n",
      "2\n",
      "3\n",
      "0\n",
      "1\n",
      "0\n",
      "1\n",
      "0\n",
      "1\n"
     ]
    }
   ],
   "source": [
    "x = 4\n",
    "for j in range(0, x):\n",
    "    for i in range(0, x):\n",
    "        print(i)\n",
    "        x = 2"
   ]
  },
  {
   "cell_type": "code",
   "execution_count": 86,
   "metadata": {},
   "outputs": [
    {
     "name": "stdout",
     "output_type": "stream",
     "text": [
      "Enter a positive integer : 9\n",
      "9 is not a porfect cube\n"
     ]
    }
   ],
   "source": [
    "#完全立法に対する立法根を求める\n",
    "x = int(input('Enter a positive integer : '))\n",
    "for ans in range(0, abs(x) + 1):\n",
    "    if ans ** 3 >= abs(x):\n",
    "        break\n",
    "if ans ** 3 != abs(x):\n",
    "    print(x ,'is not a porfect cube')\n",
    "else:\n",
    "    if x < 0:\n",
    "        ans = -ans\n",
    "    print('Cube root of', x, 'is', ans)        "
   ]
  },
  {
   "cell_type": "code",
   "execution_count": 87,
   "metadata": {},
   "outputs": [
    {
     "name": "stdout",
     "output_type": "stream",
     "text": [
      "45\n"
     ]
    }
   ],
   "source": [
    "total = 0\n",
    "for c in '123456789':\n",
    "    total += int(c)\n",
    "print(total)"
   ]
  },
  {
   "cell_type": "code",
   "execution_count": 88,
   "metadata": {},
   "outputs": [
    {
     "name": "stdout",
     "output_type": "stream",
     "text": [
      "numGuss = 2\n",
      "5 is closed to square root of 25\n"
     ]
    }
   ],
   "source": [
    "x = 25\n",
    "epsilon = 0.01\n",
    "numGuesses = 0\n",
    "step = epsilon ** 2\n",
    "while abs(ans ** 2 - x) >= epsilon and ans <= x:\n",
    "    ans +=  1\n",
    "    numGuesses += 1    \n",
    "print('numGuss =', numGuesses)\n",
    "if abs(ans ** 2 - x) >= epsilon:\n",
    "    print('Failed on spuare root of',x)\n",
    "else:\n",
    "    print(ans,'is closed to square root of', x)\n"
   ]
  },
  {
   "cell_type": "code",
   "execution_count": 89,
   "metadata": {},
   "outputs": [
    {
     "name": "stdout",
     "output_type": "stream",
     "text": [
      "numGuesses =  1\n",
      "Failed on spuare root of 25\n",
      "6 is closed to square root of 25\n"
     ]
    }
   ],
   "source": [
    "x = 25\n",
    "epsilon = 0.01\n",
    "numGuesses = 0\n",
    "step =epsilon **2\n",
    "while abs(ans ** 2) >= epsilon and ans*ans <= x:\n",
    "    ans += 1\n",
    "    numGuesses += 1\n",
    "    print('numGuesses = ', numGuesses)\n",
    "    if abs(ans ** 2 - x) >= epsilon:\n",
    "        print('Failed on spuare root of',x)\n",
    "else:\n",
    "    print(ans,'is closed to square root of', x)"
   ]
  },
  {
   "cell_type": "code",
   "execution_count": 90,
   "metadata": {
    "scrolled": true
   },
   "outputs": [
    {
     "name": "stdout",
     "output_type": "stream",
     "text": [
      "low = 0.0 high = 25 ans = 12.5\n",
      "low = 0.0 high = 12.5 ans = 6.25\n",
      "low = 0.0 high = 6.25 ans = 3.125\n",
      "low = 3.125 high = 6.25 ans = 4.6875\n",
      "low = 4.6875 high = 6.25 ans = 5.46875\n",
      "low = 4.6875 high = 5.46875 ans = 5.078125\n",
      "low = 4.6875 high = 5.078125 ans = 4.8828125\n",
      "low = 4.8828125 high = 5.078125 ans = 4.98046875\n",
      "low = 4.98046875 high = 5.078125 ans = 5.029296875\n",
      "low = 4.98046875 high = 5.029296875 ans = 5.0048828125\n",
      "low = 4.98046875 high = 5.0048828125 ans = 4.99267578125\n",
      "low = 4.99267578125 high = 5.0048828125 ans = 4.998779296875\n",
      "low = 4.998779296875 high = 5.0048828125 ans = 5.0018310546875\n",
      "numGuesses = 13\n",
      "5.00030517578125 is close to square root of 25\n"
     ]
    }
   ],
   "source": [
    "x = 25\n",
    "epsilon = 0.01\n",
    "numGuesses = 0\n",
    "low = 0.0\n",
    "del max\n",
    "high = max(1.0, x)\n",
    "ans = (high + low)/2.0\n",
    "while abs(ans ** 2 - x) >= epsilon:\n",
    "    print('low =',low, 'high =', high, 'ans =', ans)\n",
    "    numGuesses += 1\n",
    "    if ans**2 < x:\n",
    "        low = ans\n",
    "    else:\n",
    "        high = ans\n",
    "    ans = (high + low) / 2.0 \n",
    "print('numGuesses =', numGuesses)\n",
    "print(ans, 'is close to square root of',x)"
   ]
  },
  {
   "cell_type": "code",
   "execution_count": 93,
   "metadata": {},
   "outputs": [
    {
     "name": "stdout",
     "output_type": "stream",
     "text": [
      "low = 0.0 high = 257 ans = 128.5\n",
      "low = 0.0 high = 128.5 ans = 64.25\n",
      "low = 0.0 high = 64.25 ans = 32.125\n",
      "low = 0.0 high = 32.125 ans = 16.0625\n",
      "low = 0.0 high = 16.0625 ans = 8.03125\n",
      "low = 8.03125 high = 16.0625 ans = 12.046875\n",
      "low = 12.046875 high = 16.0625 ans = 14.0546875\n",
      "low = 14.0546875 high = 16.0625 ans = 15.05859375\n",
      "low = 15.05859375 high = 16.0625 ans = 15.560546875\n",
      "low = 15.560546875 high = 16.0625 ans = 15.8115234375\n",
      "low = 15.8115234375 high = 16.0625 ans = 15.93701171875\n",
      "low = 15.93701171875 high = 16.0625 ans = 15.999755859375\n",
      "numGuesses = 12\n",
      "16.0311279296875 is close to square root of 257\n"
     ]
    }
   ],
   "source": [
    "x = 257\n",
    "epsilon = 0.01\n",
    "numGuesses = 0\n",
    "low = 0.0\n",
    "high = max(1.0, x)\n",
    "ans = (high + low)/2.0\n",
    "while abs(ans ** 2 - x) >= epsilon:\n",
    "    print('low =',low, 'high =', high, 'ans =', ans)\n",
    "    numGuesses += 1\n",
    "    if ans**2 < x:\n",
    "        low = ans\n",
    "    else:\n",
    "        high = ans\n",
    "    ans = (high + low) / 2.0 \n",
    "print('numGuesses =', numGuesses)\n",
    "print(ans, 'is close to square root of',x)"
   ]
  },
  {
   "cell_type": "code",
   "execution_count": 95,
   "metadata": {},
   "outputs": [
    {
     "name": "stdout",
     "output_type": "stream",
     "text": [
      "0.9999999999999999 is not 1.0\n"
     ]
    }
   ],
   "source": [
    "x = 0.0\n",
    "for i in range(10):\n",
    "    x = x + 0.1\n",
    "if x == 1.0:\n",
    "    print(x, '= 1.0')\n",
    "else: \n",
    "    print(x, 'is not 1.0')    "
   ]
  },
  {
   "cell_type": "code",
   "execution_count": null,
   "metadata": {},
   "outputs": [],
   "source": []
  }
 ],
 "metadata": {
  "kernelspec": {
   "display_name": "Python 3",
   "language": "python",
   "name": "python3"
  },
  "language_info": {
   "codemirror_mode": {
    "name": "ipython",
    "version": 3
   },
   "file_extension": ".py",
   "mimetype": "text/x-python",
   "name": "python",
   "nbconvert_exporter": "python",
   "pygments_lexer": "ipython3",
   "version": "3.7.0"
  }
 },
 "nbformat": 4,
 "nbformat_minor": 2
}
